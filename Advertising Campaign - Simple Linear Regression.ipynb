{
 "cells": [
  {
   "cell_type": "markdown",
   "id": "a94d86e5-0f26-42c4-9cf0-6968ed35d1e6",
   "metadata": {},
   "source": [
    "## Step - 1 : Business Problem Understanding\n"
   ]
  },
  {
   "cell_type": "markdown",
   "id": "68589145-674f-4819-83e8-efb39d56b38c",
   "metadata": {},
   "source": [
    "* Indentify relationship between total advertising spend and sales\n",
    "* Our next ad campaign will have a total spend of $200,000. What should be the unit sales projection?"
   ]
  },
  {
   "cell_type": "markdown",
   "id": "7970b828-213f-4564-8edc-e489a59dbb7a",
   "metadata": {},
   "source": [
    "## Step - 2 : Data Understanding"
   ]
  },
  {
   "cell_type": "markdown",
   "id": "c5273c9e-a8f6-465a-a34e-ec5fafa2adad",
   "metadata": {},
   "source": [
    "**Data**"
   ]
  },
  {
   "cell_type": "markdown",
   "id": "7b4ee444-ae00-455f-9540-bd73e9ce4959",
   "metadata": {},
   "source": [
    "This sample data displays sales for a particular product as a function of advertising budgets (in dollars) for TV, radio, and newspaper media."
   ]
  },
  {
   "cell_type": "markdown",
   "id": "99784dfe-51f5-44e6-9ff3-4355f66e1de6",
   "metadata": {},
   "source": [
    "##### Independent Variables"
   ]
  },
  {
   "cell_type": "markdown",
   "id": "d27682a5-bf15-450e-ac0d-284516af6e38",
   "metadata": {},
   "source": [
    "* TV: Advertising amount spent on TV marketing (in Dollars)\n",
    "* Radio: Advertising amount spent on Radio marketing (in Dollars)\n",
    "* Newspaper: Advertising amount spent on Newspaper marketing (in Dollars)"
   ]
  },
  {
   "cell_type": "markdown",
   "id": "204a61f1-1bab-49bb-8036-a482b7fe7581",
   "metadata": {},
   "source": [
    "##### Target Variable"
   ]
  },
  {
   "cell_type": "markdown",
   "id": "f6b1b325-afeb-4d81-8e9a-441df66db241",
   "metadata": {},
   "source": [
    "* Sales: Overall sales of product/service in a given market"
   ]
  },
  {
   "cell_type": "markdown",
   "id": "5c35b6ba-3aab-4215-8626-4fa686c2eefe",
   "metadata": {},
   "source": [
    "##### Task"
   ]
  },
  {
   "cell_type": "markdown",
   "id": "489898fd-a463-4309-8645-e12b16e8e05b",
   "metadata": {},
   "source": [
    "* Collect & Load Data\n",
    "* Dataset Understanding"
   ]
  },
  {
   "cell_type": "code",
   "execution_count": 2,
   "id": "10e1e274-a531-455d-9708-f207a25b1336",
   "metadata": {},
   "outputs": [],
   "source": [
    "import numpy as np\n",
    "import pandas as pd\n",
    "import matplotlib.pyplot as plt\n",
    "import seaborn as sns"
   ]
  },
  {
   "cell_type": "code",
   "execution_count": 3,
   "id": "5a7da76e-015e-4220-89d4-92649c21369e",
   "metadata": {},
   "outputs": [
    {
     "data": {
      "text/html": [
       "<div>\n",
       "<style scoped>\n",
       "    .dataframe tbody tr th:only-of-type {\n",
       "        vertical-align: middle;\n",
       "    }\n",
       "\n",
       "    .dataframe tbody tr th {\n",
       "        vertical-align: top;\n",
       "    }\n",
       "\n",
       "    .dataframe thead th {\n",
       "        text-align: right;\n",
       "    }\n",
       "</style>\n",
       "<table border=\"1\" class=\"dataframe\">\n",
       "  <thead>\n",
       "    <tr style=\"text-align: right;\">\n",
       "      <th></th>\n",
       "      <th>TV</th>\n",
       "      <th>radio</th>\n",
       "      <th>newspaper</th>\n",
       "      <th>sales</th>\n",
       "    </tr>\n",
       "  </thead>\n",
       "  <tbody>\n",
       "    <tr>\n",
       "      <th>0</th>\n",
       "      <td>230100</td>\n",
       "      <td>37800</td>\n",
       "      <td>69200</td>\n",
       "      <td>22100</td>\n",
       "    </tr>\n",
       "    <tr>\n",
       "      <th>1</th>\n",
       "      <td>44500</td>\n",
       "      <td>39300</td>\n",
       "      <td>45100</td>\n",
       "      <td>10400</td>\n",
       "    </tr>\n",
       "    <tr>\n",
       "      <th>2</th>\n",
       "      <td>17200</td>\n",
       "      <td>45900</td>\n",
       "      <td>69300</td>\n",
       "      <td>9300</td>\n",
       "    </tr>\n",
       "    <tr>\n",
       "      <th>3</th>\n",
       "      <td>151500</td>\n",
       "      <td>41300</td>\n",
       "      <td>58500</td>\n",
       "      <td>18500</td>\n",
       "    </tr>\n",
       "    <tr>\n",
       "      <th>4</th>\n",
       "      <td>180800</td>\n",
       "      <td>10800</td>\n",
       "      <td>58400</td>\n",
       "      <td>12900</td>\n",
       "    </tr>\n",
       "    <tr>\n",
       "      <th>...</th>\n",
       "      <td>...</td>\n",
       "      <td>...</td>\n",
       "      <td>...</td>\n",
       "      <td>...</td>\n",
       "    </tr>\n",
       "    <tr>\n",
       "      <th>195</th>\n",
       "      <td>38200</td>\n",
       "      <td>3700</td>\n",
       "      <td>13800</td>\n",
       "      <td>7600</td>\n",
       "    </tr>\n",
       "    <tr>\n",
       "      <th>196</th>\n",
       "      <td>94200</td>\n",
       "      <td>4900</td>\n",
       "      <td>8100</td>\n",
       "      <td>9700</td>\n",
       "    </tr>\n",
       "    <tr>\n",
       "      <th>197</th>\n",
       "      <td>177000</td>\n",
       "      <td>9300</td>\n",
       "      <td>6400</td>\n",
       "      <td>12800</td>\n",
       "    </tr>\n",
       "    <tr>\n",
       "      <th>198</th>\n",
       "      <td>283600</td>\n",
       "      <td>42000</td>\n",
       "      <td>66200</td>\n",
       "      <td>25500</td>\n",
       "    </tr>\n",
       "    <tr>\n",
       "      <th>199</th>\n",
       "      <td>232100</td>\n",
       "      <td>8600</td>\n",
       "      <td>8700</td>\n",
       "      <td>13400</td>\n",
       "    </tr>\n",
       "  </tbody>\n",
       "</table>\n",
       "<p>200 rows × 4 columns</p>\n",
       "</div>"
      ],
      "text/plain": [
       "         TV  radio  newspaper  sales\n",
       "0    230100  37800      69200  22100\n",
       "1     44500  39300      45100  10400\n",
       "2     17200  45900      69300   9300\n",
       "3    151500  41300      58500  18500\n",
       "4    180800  10800      58400  12900\n",
       "..      ...    ...        ...    ...\n",
       "195   38200   3700      13800   7600\n",
       "196   94200   4900       8100   9700\n",
       "197  177000   9300       6400  12800\n",
       "198  283600  42000      66200  25500\n",
       "199  232100   8600       8700  13400\n",
       "\n",
       "[200 rows x 4 columns]"
      ]
     },
     "execution_count": 3,
     "metadata": {},
     "output_type": "execute_result"
    }
   ],
   "source": [
    "df = pd.read_csv(\"Advertising.csv\")\n",
    "df"
   ]
  },
  {
   "cell_type": "code",
   "execution_count": 4,
   "id": "54cd5b04-3708-46fa-8930-2e673feee937",
   "metadata": {},
   "outputs": [
    {
     "name": "stdout",
     "output_type": "stream",
     "text": [
      "<class 'pandas.core.frame.DataFrame'>\n",
      "RangeIndex: 200 entries, 0 to 199\n",
      "Data columns (total 4 columns):\n",
      " #   Column     Non-Null Count  Dtype\n",
      "---  ------     --------------  -----\n",
      " 0   TV         200 non-null    int64\n",
      " 1   radio      200 non-null    int64\n",
      " 2   newspaper  200 non-null    int64\n",
      " 3   sales      200 non-null    int64\n",
      "dtypes: int64(4)\n",
      "memory usage: 6.4 KB\n"
     ]
    }
   ],
   "source": [
    "df.info()"
   ]
  },
  {
   "cell_type": "markdown",
   "id": "7379fd03-d982-4003-ad6a-0cd003efd9bd",
   "metadata": {},
   "source": [
    "## Step - 3 : Data Preprocessing"
   ]
  },
  {
   "cell_type": "markdown",
   "id": "32b2cc10-2aac-4457-b598-bbf33acc50ed",
   "metadata": {},
   "source": [
    "* We need to find the total amount spent (Dollars) on individual market campaign."
   ]
  },
  {
   "cell_type": "code",
   "execution_count": 5,
   "id": "8e43ced8-aec3-4d48-adcd-5fea6ebcc3c2",
   "metadata": {},
   "outputs": [
    {
     "data": {
      "text/html": [
       "<div>\n",
       "<style scoped>\n",
       "    .dataframe tbody tr th:only-of-type {\n",
       "        vertical-align: middle;\n",
       "    }\n",
       "\n",
       "    .dataframe tbody tr th {\n",
       "        vertical-align: top;\n",
       "    }\n",
       "\n",
       "    .dataframe thead th {\n",
       "        text-align: right;\n",
       "    }\n",
       "</style>\n",
       "<table border=\"1\" class=\"dataframe\">\n",
       "  <thead>\n",
       "    <tr style=\"text-align: right;\">\n",
       "      <th></th>\n",
       "      <th>TV</th>\n",
       "      <th>radio</th>\n",
       "      <th>newspaper</th>\n",
       "      <th>sales</th>\n",
       "      <th>Total Expenses</th>\n",
       "    </tr>\n",
       "  </thead>\n",
       "  <tbody>\n",
       "    <tr>\n",
       "      <th>0</th>\n",
       "      <td>230100</td>\n",
       "      <td>37800</td>\n",
       "      <td>69200</td>\n",
       "      <td>22100</td>\n",
       "      <td>337100</td>\n",
       "    </tr>\n",
       "    <tr>\n",
       "      <th>1</th>\n",
       "      <td>44500</td>\n",
       "      <td>39300</td>\n",
       "      <td>45100</td>\n",
       "      <td>10400</td>\n",
       "      <td>128900</td>\n",
       "    </tr>\n",
       "    <tr>\n",
       "      <th>2</th>\n",
       "      <td>17200</td>\n",
       "      <td>45900</td>\n",
       "      <td>69300</td>\n",
       "      <td>9300</td>\n",
       "      <td>132400</td>\n",
       "    </tr>\n",
       "    <tr>\n",
       "      <th>3</th>\n",
       "      <td>151500</td>\n",
       "      <td>41300</td>\n",
       "      <td>58500</td>\n",
       "      <td>18500</td>\n",
       "      <td>251300</td>\n",
       "    </tr>\n",
       "    <tr>\n",
       "      <th>4</th>\n",
       "      <td>180800</td>\n",
       "      <td>10800</td>\n",
       "      <td>58400</td>\n",
       "      <td>12900</td>\n",
       "      <td>250000</td>\n",
       "    </tr>\n",
       "    <tr>\n",
       "      <th>...</th>\n",
       "      <td>...</td>\n",
       "      <td>...</td>\n",
       "      <td>...</td>\n",
       "      <td>...</td>\n",
       "      <td>...</td>\n",
       "    </tr>\n",
       "    <tr>\n",
       "      <th>195</th>\n",
       "      <td>38200</td>\n",
       "      <td>3700</td>\n",
       "      <td>13800</td>\n",
       "      <td>7600</td>\n",
       "      <td>55700</td>\n",
       "    </tr>\n",
       "    <tr>\n",
       "      <th>196</th>\n",
       "      <td>94200</td>\n",
       "      <td>4900</td>\n",
       "      <td>8100</td>\n",
       "      <td>9700</td>\n",
       "      <td>107200</td>\n",
       "    </tr>\n",
       "    <tr>\n",
       "      <th>197</th>\n",
       "      <td>177000</td>\n",
       "      <td>9300</td>\n",
       "      <td>6400</td>\n",
       "      <td>12800</td>\n",
       "      <td>192700</td>\n",
       "    </tr>\n",
       "    <tr>\n",
       "      <th>198</th>\n",
       "      <td>283600</td>\n",
       "      <td>42000</td>\n",
       "      <td>66200</td>\n",
       "      <td>25500</td>\n",
       "      <td>391800</td>\n",
       "    </tr>\n",
       "    <tr>\n",
       "      <th>199</th>\n",
       "      <td>232100</td>\n",
       "      <td>8600</td>\n",
       "      <td>8700</td>\n",
       "      <td>13400</td>\n",
       "      <td>249400</td>\n",
       "    </tr>\n",
       "  </tbody>\n",
       "</table>\n",
       "<p>200 rows × 5 columns</p>\n",
       "</div>"
      ],
      "text/plain": [
       "         TV  radio  newspaper  sales  Total Expenses\n",
       "0    230100  37800      69200  22100          337100\n",
       "1     44500  39300      45100  10400          128900\n",
       "2     17200  45900      69300   9300          132400\n",
       "3    151500  41300      58500  18500          251300\n",
       "4    180800  10800      58400  12900          250000\n",
       "..      ...    ...        ...    ...             ...\n",
       "195   38200   3700      13800   7600           55700\n",
       "196   94200   4900       8100   9700          107200\n",
       "197  177000   9300       6400  12800          192700\n",
       "198  283600  42000      66200  25500          391800\n",
       "199  232100   8600       8700  13400          249400\n",
       "\n",
       "[200 rows x 5 columns]"
      ]
     },
     "execution_count": 5,
     "metadata": {},
     "output_type": "execute_result"
    }
   ],
   "source": [
    "df['Total Expenses'] = df['TV'] + df['radio'] + df['newspaper']\n",
    "df"
   ]
  },
  {
   "cell_type": "code",
   "execution_count": 6,
   "id": "74ec1ee7-7ce9-434f-b563-e4d998353e63",
   "metadata": {},
   "outputs": [],
   "source": [
    "# In order to indentify the relationship between total advertising spend and sales we need to remove other columns"
   ]
  },
  {
   "cell_type": "code",
   "execution_count": 7,
   "id": "decd58f3-b1a0-4bba-a679-1c2b7a54b551",
   "metadata": {},
   "outputs": [
    {
     "data": {
      "text/html": [
       "<div>\n",
       "<style scoped>\n",
       "    .dataframe tbody tr th:only-of-type {\n",
       "        vertical-align: middle;\n",
       "    }\n",
       "\n",
       "    .dataframe tbody tr th {\n",
       "        vertical-align: top;\n",
       "    }\n",
       "\n",
       "    .dataframe thead th {\n",
       "        text-align: right;\n",
       "    }\n",
       "</style>\n",
       "<table border=\"1\" class=\"dataframe\">\n",
       "  <thead>\n",
       "    <tr style=\"text-align: right;\">\n",
       "      <th></th>\n",
       "      <th>sales</th>\n",
       "      <th>Total Expenses</th>\n",
       "    </tr>\n",
       "  </thead>\n",
       "  <tbody>\n",
       "    <tr>\n",
       "      <th>0</th>\n",
       "      <td>22100</td>\n",
       "      <td>337100</td>\n",
       "    </tr>\n",
       "    <tr>\n",
       "      <th>1</th>\n",
       "      <td>10400</td>\n",
       "      <td>128900</td>\n",
       "    </tr>\n",
       "    <tr>\n",
       "      <th>2</th>\n",
       "      <td>9300</td>\n",
       "      <td>132400</td>\n",
       "    </tr>\n",
       "    <tr>\n",
       "      <th>3</th>\n",
       "      <td>18500</td>\n",
       "      <td>251300</td>\n",
       "    </tr>\n",
       "    <tr>\n",
       "      <th>4</th>\n",
       "      <td>12900</td>\n",
       "      <td>250000</td>\n",
       "    </tr>\n",
       "    <tr>\n",
       "      <th>...</th>\n",
       "      <td>...</td>\n",
       "      <td>...</td>\n",
       "    </tr>\n",
       "    <tr>\n",
       "      <th>195</th>\n",
       "      <td>7600</td>\n",
       "      <td>55700</td>\n",
       "    </tr>\n",
       "    <tr>\n",
       "      <th>196</th>\n",
       "      <td>9700</td>\n",
       "      <td>107200</td>\n",
       "    </tr>\n",
       "    <tr>\n",
       "      <th>197</th>\n",
       "      <td>12800</td>\n",
       "      <td>192700</td>\n",
       "    </tr>\n",
       "    <tr>\n",
       "      <th>198</th>\n",
       "      <td>25500</td>\n",
       "      <td>391800</td>\n",
       "    </tr>\n",
       "    <tr>\n",
       "      <th>199</th>\n",
       "      <td>13400</td>\n",
       "      <td>249400</td>\n",
       "    </tr>\n",
       "  </tbody>\n",
       "</table>\n",
       "<p>200 rows × 2 columns</p>\n",
       "</div>"
      ],
      "text/plain": [
       "     sales  Total Expenses\n",
       "0    22100          337100\n",
       "1    10400          128900\n",
       "2     9300          132400\n",
       "3    18500          251300\n",
       "4    12900          250000\n",
       "..     ...             ...\n",
       "195   7600           55700\n",
       "196   9700          107200\n",
       "197  12800          192700\n",
       "198  25500          391800\n",
       "199  13400          249400\n",
       "\n",
       "[200 rows x 2 columns]"
      ]
     },
     "execution_count": 7,
     "metadata": {},
     "output_type": "execute_result"
    }
   ],
   "source": [
    "df.drop(columns=['TV', 'radio', 'newspaper'], inplace=True)\n",
    "df"
   ]
  },
  {
   "cell_type": "markdown",
   "id": "543efdb0-e4df-42b6-940e-1e2c0255c6f0",
   "metadata": {},
   "source": [
    "**Exploratory Data Analysis (EDA)**"
   ]
  },
  {
   "cell_type": "code",
   "execution_count": 8,
   "id": "d889f593-8c1d-41f2-88a1-7db5825c92be",
   "metadata": {},
   "outputs": [
    {
     "data": {
      "text/html": [
       "<div>\n",
       "<style scoped>\n",
       "    .dataframe tbody tr th:only-of-type {\n",
       "        vertical-align: middle;\n",
       "    }\n",
       "\n",
       "    .dataframe tbody tr th {\n",
       "        vertical-align: top;\n",
       "    }\n",
       "\n",
       "    .dataframe thead th {\n",
       "        text-align: right;\n",
       "    }\n",
       "</style>\n",
       "<table border=\"1\" class=\"dataframe\">\n",
       "  <thead>\n",
       "    <tr style=\"text-align: right;\">\n",
       "      <th></th>\n",
       "      <th>sales</th>\n",
       "      <th>Total Expenses</th>\n",
       "    </tr>\n",
       "  </thead>\n",
       "  <tbody>\n",
       "    <tr>\n",
       "      <th>count</th>\n",
       "      <td>200.000000</td>\n",
       "      <td>200.000000</td>\n",
       "    </tr>\n",
       "    <tr>\n",
       "      <th>mean</th>\n",
       "      <td>14022.500000</td>\n",
       "      <td>200860.500000</td>\n",
       "    </tr>\n",
       "    <tr>\n",
       "      <th>std</th>\n",
       "      <td>5217.456566</td>\n",
       "      <td>92985.180587</td>\n",
       "    </tr>\n",
       "    <tr>\n",
       "      <th>min</th>\n",
       "      <td>1600.000000</td>\n",
       "      <td>11700.000000</td>\n",
       "    </tr>\n",
       "    <tr>\n",
       "      <th>25%</th>\n",
       "      <td>10375.000000</td>\n",
       "      <td>123550.000000</td>\n",
       "    </tr>\n",
       "    <tr>\n",
       "      <th>50%</th>\n",
       "      <td>12900.000000</td>\n",
       "      <td>207350.000000</td>\n",
       "    </tr>\n",
       "    <tr>\n",
       "      <th>75%</th>\n",
       "      <td>17400.000000</td>\n",
       "      <td>281125.000000</td>\n",
       "    </tr>\n",
       "    <tr>\n",
       "      <th>max</th>\n",
       "      <td>27000.000000</td>\n",
       "      <td>433600.000000</td>\n",
       "    </tr>\n",
       "  </tbody>\n",
       "</table>\n",
       "</div>"
      ],
      "text/plain": [
       "              sales  Total Expenses\n",
       "count    200.000000      200.000000\n",
       "mean   14022.500000   200860.500000\n",
       "std     5217.456566    92985.180587\n",
       "min     1600.000000    11700.000000\n",
       "25%    10375.000000   123550.000000\n",
       "50%    12900.000000   207350.000000\n",
       "75%    17400.000000   281125.000000\n",
       "max    27000.000000   433600.000000"
      ]
     },
     "execution_count": 8,
     "metadata": {},
     "output_type": "execute_result"
    }
   ],
   "source": [
    "df.describe()"
   ]
  },
  {
   "cell_type": "code",
   "execution_count": 9,
   "id": "931e5730-653e-4ef0-8992-7e384877e84d",
   "metadata": {},
   "outputs": [
    {
     "data": {
      "image/png": "[encoded data removed]",
      "text/plain": [
       "<Figure size 500x500 with 6 Axes>"
      ]
     },
     "metadata": {},
     "output_type": "display_data"
    }
   ],
   "source": [
    "sns.pairplot(df)\n",
    "plt.show()"
   ]
  },
  {
   "cell_type": "code",
   "execution_count": 10,
   "id": "1125166f-c16e-4c1d-adeb-6344443119b0",
   "metadata": {},
   "outputs": [
    {
     "data": {
      "text/html": [
       "<div>\n",
       "<style scoped>\n",
       "    .dataframe tbody tr th:only-of-type {\n",
       "        vertical-align: middle;\n",
       "    }\n",
       "\n",
       "    .dataframe tbody tr th {\n",
       "        vertical-align: top;\n",
       "    }\n",
       "\n",
       "    .dataframe thead th {\n",
       "        text-align: right;\n",
       "    }\n",
       "</style>\n",
       "<table border=\"1\" class=\"dataframe\">\n",
       "  <thead>\n",
       "    <tr style=\"text-align: right;\">\n",
       "      <th></th>\n",
       "      <th>sales</th>\n",
       "      <th>Total Expenses</th>\n",
       "    </tr>\n",
       "  </thead>\n",
       "  <tbody>\n",
       "    <tr>\n",
       "      <th>sales</th>\n",
       "      <td>1.000000</td>\n",
       "      <td>0.867712</td>\n",
       "    </tr>\n",
       "    <tr>\n",
       "      <th>Total Expenses</th>\n",
       "      <td>0.867712</td>\n",
       "      <td>1.000000</td>\n",
       "    </tr>\n",
       "  </tbody>\n",
       "</table>\n",
       "</div>"
      ],
      "text/plain": [
       "                   sales  Total Expenses\n",
       "sales           1.000000        0.867712\n",
       "Total Expenses  0.867712        1.000000"
      ]
     },
     "execution_count": 10,
     "metadata": {},
     "output_type": "execute_result"
    }
   ],
   "source": [
    "df.corr()"
   ]
  },
  {
   "cell_type": "code",
   "execution_count": 11,
   "id": "24c5c75b-f60d-471d-862a-f7e061edd816",
   "metadata": {},
   "outputs": [
    {
     "data": {
      "text/plain": [
       "sales             0\n",
       "Total Expenses    0\n",
       "dtype: int64"
      ]
     },
     "execution_count": 11,
     "metadata": {},
     "output_type": "execute_result"
    }
   ],
   "source": [
    "df.isnull().sum()"
   ]
  },
  {
   "cell_type": "code",
   "execution_count": 12,
   "id": "cde54d4e-c59a-4bd1-9c57-9e744fdb2cc6",
   "metadata": {},
   "outputs": [
    {
     "data": {
      "text/plain": [
       "0"
      ]
     },
     "execution_count": 12,
     "metadata": {},
     "output_type": "execute_result"
    }
   ],
   "source": [
    "df.duplicated().sum()"
   ]
  },
  {
   "cell_type": "markdown",
   "id": "4cb8b0f3-12be-4c19-beda-59081e7e0518",
   "metadata": {},
   "source": [
    "**Checking if there is any wrong data-**"
   ]
  },
  {
   "cell_type": "code",
   "execution_count": 13,
   "id": "c3091b65-be21-45b2-9dd9-4926316ba904",
   "metadata": {},
   "outputs": [
    {
     "data": {
      "text/plain": [
       "array([22100, 10400,  9300, 18500, 12900,  7200, 11800, 13200,  4800,\n",
       "       10600,  8600, 17400,  9200,  9700, 19000, 22400, 12500, 24400,\n",
       "       11300, 14600, 18000,  5600, 15500, 12000, 15000, 15900, 18900,\n",
       "       10500, 21400, 11900,  9600,  9500, 12800, 25400, 14700, 10100,\n",
       "       21500, 16600, 17100, 20700,  8500, 14900, 23200, 14800, 11400,\n",
       "       10700, 22600, 21200, 20200, 23700,  5500, 23800, 18400,  8100,\n",
       "       24200, 15700, 14000, 13400, 22300, 18300, 12400,  8800, 11000,\n",
       "       17000,  8700,  6900, 14200,  5300, 12300, 13600, 21700, 15200,\n",
       "       16000, 16700, 11200,  7300, 19400, 22200, 11500, 16900, 11700,\n",
       "       17200, 19200, 19800, 21800, 14100, 12600, 12200,  9400,  6600,\n",
       "        7000, 11600, 19700, 24700,  1600, 12700,  5700, 19600, 10800,\n",
       "       20800, 10900, 20100, 10300, 16100, 15600,  3200, 15300, 14400,\n",
       "       13300,  8000,  8400, 14500,  7600, 27000, 26200, 17600, 17300,\n",
       "        6700,  9900,  5900, 25500], dtype=int64)"
      ]
     },
     "execution_count": 13,
     "metadata": {},
     "output_type": "execute_result"
    }
   ],
   "source": [
    "df['sales'].unique()"
   ]
  },
  {
   "cell_type": "code",
   "execution_count": 14,
   "id": "a5d81410-c6a8-41f2-b207-3611c6c67c66",
   "metadata": {},
   "outputs": [
    {
     "data": {
      "text/plain": [
       "array([337100, 128900, 132400, 251300, 250000, 132600, 113800, 151400,\n",
       "        11700, 223600,  96100, 242700, 124800, 112300, 283000, 296000,\n",
       "       218400, 376800, 108000, 190300, 299500, 266000,  78700, 271400,\n",
       "        93200, 285900, 184800, 279700, 298800, 127400, 364400, 168900,\n",
       "       128700, 104500, 303300, 315700, 169800, 104900, 297700, 256400,\n",
       "       249100, 323100, 241700,  94100, 229100, 135300, 299900, 292900,\n",
       "       115400, 237500, 113600, 287500, 307400, 308300,  76800, 172000,\n",
       "       298100, 249500,  76900, 358700, 282100, 140700, 202800,  79200,\n",
       "        58300, 164000, 275900, 287900, 268400, 155800,  79100, 166400,\n",
       "       251100, 150000,  49800, 163200,  44700, 146800, 125400, 280800,\n",
       "       128100, 148500, 290300, 277300, 119800, 214500, 187200, 209000,\n",
       "        63100, 310200, 359700, 132300, 247800, 207000, 227900, 383200,\n",
       "       222800, 276500, 433600, 311700, 223000, 277800, 243300,  65700,\n",
       "       113900,  39100, 287800, 290500, 302900, 193500, 240900, 159500,\n",
       "       162800, 179100,  92000, 241800,  57700, 214300,  90900, 242000,\n",
       "       170100, 336000, 124900,  97300,  89400, 272500, 114700,  49000,\n",
       "       311100,  37700, 298400, 141100, 103800,  73900, 362300, 230500,\n",
       "       103300, 304700, 291600, 144700, 149900, 151200, 256100, 336500,\n",
       "        90200,  91100, 331600, 178100, 235100, 248700,  21400, 187900,\n",
       "       175400,  93800, 184700, 221300, 170800, 232100, 207700, 137300,\n",
       "       322700,  77100, 231400, 296600, 301300,  80000, 232800,  56700,\n",
       "       188300, 238900, 367600, 298900, 213200, 302700, 193200, 167500,\n",
       "        91600, 402400, 305100, 269700, 168200, 238000, 303600,  54200,\n",
       "        86400,  92300,  52900, 212400, 191300,  55700, 107200, 192700,\n",
       "       391800, 249400], dtype=int64)"
      ]
     },
     "execution_count": 14,
     "metadata": {},
     "output_type": "execute_result"
    }
   ],
   "source": [
    "df['Total Expenses'].unique()"
   ]
  },
  {
   "cell_type": "markdown",
   "id": "6e8b63df-9215-45d0-925f-53cd67679916",
   "metadata": {},
   "source": [
    "## Step - 4 : Data Modelling"
   ]
  },
  {
   "cell_type": "code",
   "execution_count": 15,
   "id": "20b13732-f034-4d59-bcba-fb74d204eff9",
   "metadata": {},
   "outputs": [],
   "source": [
    "X= df[['Total Expenses']] #input variable should be in 2D format\n",
    "\n",
    "y=df['sales']"
   ]
  },
  {
   "cell_type": "markdown",
   "id": "476f183a-e724-4815-80e3-4545cb77fed2",
   "metadata": {},
   "source": [
    "**Train-Test Split**"
   ]
  },
  {
   "cell_type": "code",
   "execution_count": 76,
   "id": "6b5fcf13-0111-4eed-a0ad-08024cec0e33",
   "metadata": {},
   "outputs": [],
   "source": [
    "from sklearn.model_selection import train_test_split\n",
    "X_train, X_test, y_train, y_test = train_test_split(X, y, train_size=0.8, random_state=16 )\n"
   ]
  },
  {
   "cell_type": "markdown",
   "id": "174a06f3-4caf-42bf-8748-87acb7c94bb9",
   "metadata": {},
   "source": [
    "**Simple Linear Regression ŷ = β₀ + β₁X**"
   ]
  },
  {
   "cell_type": "code",
   "execution_count": 77,
   "id": "fac7ad7b-9620-4c18-8663-446710ccf1e1",
   "metadata": {},
   "outputs": [
    {
     "name": "stdout",
     "output_type": "stream",
     "text": [
      "Intercept: 4370.6151911991965\n",
      "Coefficients: [0.04799819]\n"
     ]
    }
   ],
   "source": [
    "from sklearn.linear_model import LinearRegression\n",
    "\n",
    "# Save the model\n",
    "model = LinearRegression()\n",
    "\n",
    "# Fit the model\n",
    "model.fit(X_train, y_train)\n",
    "\n",
    "# Print Intercept and Coefficients\n",
    "print(\"Intercept:\", model.intercept_)\n",
    "print(\"Coefficients:\", model.coef_)"
   ]
  },
  {
   "cell_type": "markdown",
   "id": "b3faff99-0981-45c6-9099-b1ecb9e2d191",
   "metadata": {},
   "source": [
    "## Step - 5 : Evaluation"
   ]
  },
  {
   "cell_type": "markdown",
   "id": "10eac3f2-737b-4699-bcf8-a80669ebf79f",
   "metadata": {},
   "source": [
    "**Mean Absolute Error (MAE) is the mean of the absolute value of the errors**"
   ]
  },
  {
   "cell_type": "code",
   "execution_count": 79,
   "id": "016836cc-767d-4070-954c-2474b33c51c2",
   "metadata": {},
   "outputs": [
    {
     "name": "stdout",
     "output_type": "stream",
     "text": [
      "Test MAE: 1814.2576779681117\n"
     ]
    }
   ],
   "source": [
    "from sklearn.metrics import mean_absolute_error\n",
    "print(\"Test MAE:\", mean_absolute_error(y_test, y_pred_test))"
   ]
  },
  {
   "cell_type": "markdown",
   "id": "a213311f-ebd1-411b-9503-f4a17abe32cb",
   "metadata": {},
   "source": [
    "**Mean Squared Error (MSE) is the mean of the squared errors**"
   ]
  },
  {
   "cell_type": "code",
   "execution_count": 80,
   "id": "e172f16b-316e-4294-a8c0-4ebd7f399fcc",
   "metadata": {},
   "outputs": [
    {
     "name": "stdout",
     "output_type": "stream",
     "text": [
      "Test MSE: 5614304.684935944\n"
     ]
    }
   ],
   "source": [
    "from sklearn.metrics import mean_squared_error\n",
    "print(\"Test MSE:\", mean_squared_error(y_test, y_pred_test))"
   ]
  },
  {
   "cell_type": "markdown",
   "id": "1b750fe9-259d-49a4-a9d3-7aa29ad6e4d7",
   "metadata": {},
   "source": [
    "**Root Mean Squared Error (RMSE) is the square root of the mean of the squared errors**"
   ]
  },
  {
   "cell_type": "code",
   "execution_count": 81,
   "id": "ec8830ab-07b8-494c-a879-293d961ad9c5",
   "metadata": {},
   "outputs": [
    {
     "name": "stdout",
     "output_type": "stream",
     "text": [
      "Test RMSE: 2369.452401913983\n"
     ]
    }
   ],
   "source": [
    "print(\"Test RMSE:\", np.sqrt(mean_squared_error(y_test, y_pred_test)))"
   ]
  },
  {
   "cell_type": "markdown",
   "id": "559cfbbd-9f4f-472f-a6b2-b234dcb7c83d",
   "metadata": {},
   "source": [
    "## Model Selection"
   ]
  },
  {
   "cell_type": "markdown",
   "id": "7323f4e2-4086-4d32-8044-cde4543d58e4",
   "metadata": {},
   "source": [
    "**Checklist 1: Check whether model is good or either having overfitting/underfitting**"
   ]
  },
  {
   "cell_type": "markdown",
   "id": "f109a9d6-8c6e-4cb5-9703-916d920d7744",
   "metadata": {},
   "source": [
    "**Predictions**"
   ]
  },
  {
   "cell_type": "code",
   "execution_count": 83,
   "id": "99395aca-7ea9-4101-ab20-b311e2769e2a",
   "metadata": {},
   "outputs": [
    {
     "name": "stdout",
     "output_type": "stream",
     "text": [
      "Train R2: 0.7518562241233018\n"
     ]
    }
   ],
   "source": [
    "# prediction on train data\n",
    "y_pred_train = model.predict(X_train)\n",
    "\n",
    "# Train R2\n",
    "print(\"Train R2:\", model.score(X_train, y_train))"
   ]
  },
  {
   "cell_type": "code",
   "execution_count": 87,
   "id": "8633e486-6f35-43f9-aadc-7b5a9f916f74",
   "metadata": {},
   "outputs": [
    {
     "name": "stdout",
     "output_type": "stream",
     "text": [
      "Test R2: 0.7571819153838115\n"
     ]
    }
   ],
   "source": [
    "# prediction on test data\n",
    "y_pred_test = model.predict(X_test)\n",
    "\n",
    "# Test R2\n",
    "print(\"Test R2:\", model.score(X_test, y_test))"
   ]
  },
  {
   "cell_type": "markdown",
   "id": "2b247ab4-1029-40e2-9a85-291df734adaf",
   "metadata": {},
   "source": [
    "**Checklist 2: Whether the Test Accuracy = Cross validation Score**"
   ]
  },
  {
   "cell_type": "code",
   "execution_count": 84,
   "id": "da91aaf2-91e9-4204-9472-5cf4faa7c513",
   "metadata": {},
   "outputs": [
    {
     "name": "stdout",
     "output_type": "stream",
     "text": [
      "[0.74964192 0.79455226 0.76417134 0.74872042 0.65980565]\n",
      "Cross Validation Score: 0.7433783178555419\n"
     ]
    }
   ],
   "source": [
    "from sklearn.model_selection import cross_val_score\n",
    "scores = cross_val_score(model, X, y, cv=5)\n",
    "print(scores)\n",
    "\n",
    "print(\"Cross Validation Score:\", scores.mean())"
   ]
  },
  {
   "cell_type": "markdown",
   "id": "5dda8de0-72c7-43f3-be7e-3dd3b6d362bb",
   "metadata": {},
   "source": [
    "**Checklist 3: Check for Assumptions**"
   ]
  },
  {
   "cell_type": "code",
   "execution_count": 89,
   "id": "a6e45dc3-7b76-405b-9f48-4b0ca2d3fba3",
   "metadata": {},
   "outputs": [],
   "source": [
    "# Calculate error (residuals)\n",
    "error = y_test - y_pred_test"
   ]
  },
  {
   "cell_type": "code",
   "execution_count": 91,
   "id": "4870ec11-23cf-47bb-89ce-af758d245b11",
   "metadata": {},
   "outputs": [
    {
     "data": {
      "image/png": "[encoded data removed]",
      "text/plain": [
       "<Figure size 640x480 with 1 Axes>"
      ]
     },
     "metadata": {},
     "output_type": "display_data"
    }
   ],
   "source": [
    "# Visualize the linearity of errors\n",
    "\n",
    "import matplotlib.pyplot as plt\n",
    "\n",
    "plt.scatter(y_test, error)\n",
    "plt.xlabel(\"observed_values\")\n",
    "plt.ylabel(\"fitted_values\")\n",
    "plt.show()"
   ]
  },
  {
   "cell_type": "markdown",
   "id": "731a1a72-8ffe-402d-b968-5ec0313d9efd",
   "metadata": {},
   "source": [
    "**Normality of Errors**"
   ]
  },
  {
   "cell_type": "code",
   "execution_count": 92,
   "id": "0255b290-f393-46aa-8efe-3ee7a9334f5b",
   "metadata": {},
   "outputs": [
    {
     "data": {
      "text/plain": [
       "-0.7201801005575459"
      ]
     },
     "execution_count": 92,
     "metadata": {},
     "output_type": "execute_result"
    }
   ],
   "source": [
    "# Check skewness of the error (for normality of errors)\n",
    "error.skew()\n"
   ]
  },
  {
   "cell_type": "code",
   "execution_count": 93,
   "id": "be8b9083-330e-4aa2-812a-df37950ce856",
   "metadata": {},
   "outputs": [
    {
     "data": {
      "image/png": "[encoded data removed]",
      "text/plain": [
       "<Figure size 500x500 with 1 Axes>"
      ]
     },
     "metadata": {},
     "output_type": "display_data"
    }
   ],
   "source": [
    "# Visualize the distribution of residuals\n",
    "import seaborn as sns\n",
    "import matplotlib.pyplot as plt\n",
    "\n",
    "sns.displot(error, kde=True)\n",
    "plt.show()\n"
   ]
  },
  {
   "cell_type": "markdown",
   "id": "9b6b3d90-c179-4178-893b-bb0b35c4f8c6",
   "metadata": {},
   "source": [
    "**Equal Variance of Errors (Homoscadesicity)**"
   ]
  },
  {
   "cell_type": "code",
   "execution_count": 96,
   "id": "fef30d3a-bbb2-4f97-9ccd-87441c8ecfbe",
   "metadata": {},
   "outputs": [
    {
     "data": {
      "image/png": "[encoded data removed]",
      "text/plain": [
       "<Figure size 640x480 with 1 Axes>"
      ]
     },
     "metadata": {},
     "output_type": "display_data"
    }
   ],
   "source": [
    "# Plot to check for homoscedasticity\n",
    "plt.scatter(y_pred_test, error)\n",
    "plt.axhline(y=0, color='red')\n",
    "plt.xlabel(\"fitted_values\")\n",
    "plt.ylabel(\"residuals\")\n",
    "plt.show()\n"
   ]
  },
  {
   "cell_type": "markdown",
   "id": "3274f94c-f274-49a2-a8a8-63f9a9ffea1c",
   "metadata": {},
   "source": [
    "**Variables Significance**"
   ]
  },
  {
   "cell_type": "code",
   "execution_count": 98,
   "id": "098babf1-3197-49a7-9f98-c317cd057352",
   "metadata": {},
   "outputs": [
    {
     "data": {
      "text/html": [
       "<table class=\"simpletable\">\n",
       "<caption>OLS Regression Results</caption>\n",
       "<tr>\n",
       "  <th>Dep. Variable:</th>            <td>y</td>        <th>  R-squared:         </th> <td>   0.753</td>\n",
       "</tr>\n",
       "<tr>\n",
       "  <th>Model:</th>                   <td>OLS</td>       <th>  Adj. R-squared:    </th> <td>   0.752</td>\n",
       "</tr>\n",
       "<tr>\n",
       "  <th>Method:</th>             <td>Least Squares</td>  <th>  F-statistic:       </th> <td>   603.4</td>\n",
       "</tr>\n",
       "<tr>\n",
       "  <th>Date:</th>             <td>Wed, 25 Jun 2025</td> <th>  Prob (F-statistic):</th> <td>5.06e-62</td>\n",
       "</tr>\n",
       "<tr>\n",
       "  <th>Time:</th>                 <td>23:20:50</td>     <th>  Log-Likelihood:    </th> <td> -1855.4</td>\n",
       "</tr>\n",
       "<tr>\n",
       "  <th>No. Observations:</th>      <td>   200</td>      <th>  AIC:               </th> <td>   3715.</td>\n",
       "</tr>\n",
       "<tr>\n",
       "  <th>Df Residuals:</th>          <td>   198</td>      <th>  BIC:               </th> <td>   3721.</td>\n",
       "</tr>\n",
       "<tr>\n",
       "  <th>Df Model:</th>              <td>     1</td>      <th>                     </th>     <td> </td>   \n",
       "</tr>\n",
       "<tr>\n",
       "  <th>Covariance Type:</th>      <td>nonrobust</td>    <th>                     </th>     <td> </td>   \n",
       "</tr>\n",
       "</table>\n",
       "<table class=\"simpletable\">\n",
       "<tr>\n",
       "      <td></td>         <th>coef</th>     <th>std err</th>      <th>t</th>      <th>P>|t|</th>  <th>[0.025</th>    <th>0.975]</th>  \n",
       "</tr>\n",
       "<tr>\n",
       "  <th>Intercept</th> <td> 4243.0282</td> <td>  438.525</td> <td>    9.676</td> <td> 0.000</td> <td> 3378.249</td> <td> 5107.807</td>\n",
       "</tr>\n",
       "<tr>\n",
       "  <th>X</th>         <td>    0.0487</td> <td>    0.002</td> <td>   24.564</td> <td> 0.000</td> <td>    0.045</td> <td>    0.053</td>\n",
       "</tr>\n",
       "</table>\n",
       "<table class=\"simpletable\">\n",
       "<tr>\n",
       "  <th>Omnibus:</th>       <td> 6.851</td> <th>  Durbin-Watson:     </th> <td>   1.967</td>\n",
       "</tr>\n",
       "<tr>\n",
       "  <th>Prob(Omnibus):</th> <td> 0.033</td> <th>  Jarque-Bera (JB):  </th> <td>   6.692</td>\n",
       "</tr>\n",
       "<tr>\n",
       "  <th>Skew:</th>          <td>-0.373</td> <th>  Prob(JB):          </th> <td>  0.0352</td>\n",
       "</tr>\n",
       "<tr>\n",
       "  <th>Kurtosis:</th>      <td> 3.495</td> <th>  Cond. No.          </th> <td>5.28e+05</td>\n",
       "</tr>\n",
       "</table><br/><br/>Notes:<br/>[1] Standard Errors assume that the covariance matrix of the errors is correctly specified.<br/>[2] The condition number is large, 5.28e+05. This might indicate that there are<br/>strong multicollinearity or other numerical problems."
      ],
      "text/latex": [
       "\\begin{center}\n",
       "\\begin{tabular}{lclc}\n",
       "\\toprule\n",
       "\\textbf{Dep. Variable:}    &        y         & \\textbf{  R-squared:         } &     0.753   \\\\\n",
       "\\textbf{Model:}            &       OLS        & \\textbf{  Adj. R-squared:    } &     0.752   \\\\\n",
       "\\textbf{Method:}           &  Least Squares   & \\textbf{  F-statistic:       } &     603.4   \\\\\n",
       "\\textbf{Date:}             & Wed, 25 Jun 2025 & \\textbf{  Prob (F-statistic):} &  5.06e-62   \\\\\n",
       "\\textbf{Time:}             &     23:20:50     & \\textbf{  Log-Likelihood:    } &   -1855.4   \\\\\n",
       "\\textbf{No. Observations:} &         200      & \\textbf{  AIC:               } &     3715.   \\\\\n",
       "\\textbf{Df Residuals:}     &         198      & \\textbf{  BIC:               } &     3721.   \\\\\n",
       "\\textbf{Df Model:}         &           1      & \\textbf{                     } &             \\\\\n",
       "\\textbf{Covariance Type:}  &    nonrobust     & \\textbf{                     } &             \\\\\n",
       "\\bottomrule\n",
       "\\end{tabular}\n",
       "\\begin{tabular}{lcccccc}\n",
       "                   & \\textbf{coef} & \\textbf{std err} & \\textbf{t} & \\textbf{P$> |$t$|$} & \\textbf{[0.025} & \\textbf{0.975]}  \\\\\n",
       "\\midrule\n",
       "\\textbf{Intercept} &    4243.0282  &      438.525     &     9.676  &         0.000        &     3378.249    &     5107.807     \\\\\n",
       "\\textbf{X}         &       0.0487  &        0.002     &    24.564  &         0.000        &        0.045    &        0.053     \\\\\n",
       "\\bottomrule\n",
       "\\end{tabular}\n",
       "\\begin{tabular}{lclc}\n",
       "\\textbf{Omnibus:}       &  6.851 & \\textbf{  Durbin-Watson:     } &    1.967  \\\\\n",
       "\\textbf{Prob(Omnibus):} &  0.033 & \\textbf{  Jarque-Bera (JB):  } &    6.692  \\\\\n",
       "\\textbf{Skew:}          & -0.373 & \\textbf{  Prob(JB):          } &   0.0352  \\\\\n",
       "\\textbf{Kurtosis:}      &  3.495 & \\textbf{  Cond. No.          } & 5.28e+05  \\\\\n",
       "\\bottomrule\n",
       "\\end{tabular}\n",
       "%\\caption{OLS Regression Results}\n",
       "\\end{center}\n",
       "\n",
       "Notes: \\newline\n",
       " [1] Standard Errors assume that the covariance matrix of the errors is correctly specified. \\newline\n",
       " [2] The condition number is large, 5.28e+05. This might indicate that there are \\newline\n",
       " strong multicollinearity or other numerical problems."
      ],
      "text/plain": [
       "<class 'statsmodels.iolib.summary.Summary'>\n",
       "\"\"\"\n",
       "                            OLS Regression Results                            \n",
       "==============================================================================\n",
       "Dep. Variable:                      y   R-squared:                       0.753\n",
       "Model:                            OLS   Adj. R-squared:                  0.752\n",
       "Method:                 Least Squares   F-statistic:                     603.4\n",
       "Date:                Wed, 25 Jun 2025   Prob (F-statistic):           5.06e-62\n",
       "Time:                        23:20:50   Log-Likelihood:                -1855.4\n",
       "No. Observations:                 200   AIC:                             3715.\n",
       "Df Residuals:                     198   BIC:                             3721.\n",
       "Df Model:                           1                                         \n",
       "Covariance Type:            nonrobust                                         \n",
       "==============================================================================\n",
       "                 coef    std err          t      P>|t|      [0.025      0.975]\n",
       "------------------------------------------------------------------------------\n",
       "Intercept   4243.0282    438.525      9.676      0.000    3378.249    5107.807\n",
       "X              0.0487      0.002     24.564      0.000       0.045       0.053\n",
       "==============================================================================\n",
       "Omnibus:                        6.851   Durbin-Watson:                   1.967\n",
       "Prob(Omnibus):                  0.033   Jarque-Bera (JB):                6.692\n",
       "Skew:                          -0.373   Prob(JB):                       0.0352\n",
       "Kurtosis:                       3.495   Cond. No.                     5.28e+05\n",
       "==============================================================================\n",
       "\n",
       "Notes:\n",
       "[1] Standard Errors assume that the covariance matrix of the errors is correctly specified.\n",
       "[2] The condition number is large, 5.28e+05. This might indicate that there are\n",
       "strong multicollinearity or other numerical problems.\n",
       "\"\"\""
      ]
     },
     "execution_count": 98,
     "metadata": {},
     "output_type": "execute_result"
    }
   ],
   "source": [
    "import statsmodels.formula.api as smf\n",
    "\n",
    "model2 = smf.ols(\"y ~ X\", data=df).fit()\n",
    "model2.summary()"
   ]
  },
  {
   "cell_type": "markdown",
   "id": "2edbfa5f-7dbc-42ed-9071-ee27d40627b1",
   "metadata": {},
   "source": [
    "### Final Model"
   ]
  },
  {
   "cell_type": "code",
   "execution_count": 99,
   "id": "cf358e50-571e-4763-bf79-d4e9162ff6b1",
   "metadata": {},
   "outputs": [
    {
     "name": "stdout",
     "output_type": "stream",
     "text": [
      "Intercept: 4370.6151911991965\n",
      "Coefficients: [0.04799819]\n",
      "Train R2: 0.7518562241233018\n",
      "Test R2: 0.7571819153838115\n",
      "Cross Validation Score: 0.7433783178555419\n"
     ]
    }
   ],
   "source": [
    "# Modelling\n",
    "from sklearn.linear_model import LinearRegression\n",
    "from sklearn.model_selection import cross_val_score\n",
    "\n",
    "model = LinearRegression()\n",
    "model.fit(X_train, y_train)\n",
    "\n",
    "print(\"Intercept:\", model.intercept_)\n",
    "print(\"Coefficients:\", model.coef_)\n",
    "\n",
    "# Prediction\n",
    "ypred_train = model.predict(X_train)\n",
    "ypred_test = model.predict(X_test)\n",
    "\n",
    "# Evaluation\n",
    "print(\"Train R2:\", model.score(X_train, y_train))\n",
    "print(\"Test R2:\", model.score(X_test, y_test))\n",
    "print(\"Cross Validation Score:\", cross_val_score(model, X, y, cv=5).mean())\n"
   ]
  },
  {
   "cell_type": "markdown",
   "id": "90e83f96-c110-4bd7-ac2f-9aac4c578372",
   "metadata": {},
   "source": [
    "* The Train R2, Test R2 and CV score all lie within +-5% tolerance level. Hence, this is a Good Model."
   ]
  },
  {
   "cell_type": "markdown",
   "id": "c874f434-9aa4-4bbe-8d4c-cc887cf5a3bb",
   "metadata": {},
   "source": [
    "**Checking the Sales for the provided Ad-Spend**"
   ]
  },
  {
   "cell_type": "code",
   "execution_count": 100,
   "id": "dc3bbb8c-00ac-471b-ba24-139f4c0a550c",
   "metadata": {},
   "outputs": [
    {
     "data": {
      "text/html": [
       "<div>\n",
       "<style scoped>\n",
       "    .dataframe tbody tr th:only-of-type {\n",
       "        vertical-align: middle;\n",
       "    }\n",
       "\n",
       "    .dataframe tbody tr th {\n",
       "        vertical-align: top;\n",
       "    }\n",
       "\n",
       "    .dataframe thead th {\n",
       "        text-align: right;\n",
       "    }\n",
       "</style>\n",
       "<table border=\"1\" class=\"dataframe\">\n",
       "  <thead>\n",
       "    <tr style=\"text-align: right;\">\n",
       "      <th></th>\n",
       "      <th>Total Expenses</th>\n",
       "    </tr>\n",
       "  </thead>\n",
       "  <tbody>\n",
       "    <tr>\n",
       "      <th>0</th>\n",
       "      <td>200000</td>\n",
       "    </tr>\n",
       "  </tbody>\n",
       "</table>\n",
       "</div>"
      ],
      "text/plain": [
       "   Total Expenses\n",
       "0          200000"
      ]
     },
     "execution_count": 100,
     "metadata": {},
     "output_type": "execute_result"
    }
   ],
   "source": [
    "# Create new data point for prediction\n",
    "\n",
    "new_data = pd.DataFrame({\"Total Expenses\": [200000]})\n",
    "new_data"
   ]
  },
  {
   "cell_type": "code",
   "execution_count": 101,
   "id": "5691b3e3-6883-4c0f-9a16-50e73f444c52",
   "metadata": {},
   "outputs": [
    {
     "data": {
      "text/plain": [
       "array([13970.25235278])"
      ]
     },
     "execution_count": 101,
     "metadata": {},
     "output_type": "execute_result"
    }
   ],
   "source": [
    "# Predict target variable for the new input\n",
    "\n",
    "model.predict(new_data)"
   ]
  },
  {
   "cell_type": "markdown",
   "id": "03ec9474-b4b9-4843-b254-07b3585c91cd",
   "metadata": {},
   "source": [
    "* We can project a sale of 13970 for an ad-spend of 200,000$"
   ]
  },
  {
   "cell_type": "markdown",
   "id": "9fe67cf0-8255-4286-a1f7-7cc11fcb952b",
   "metadata": {},
   "source": [
    "**Save the Model**"
   ]
  },
  {
   "cell_type": "code",
   "execution_count": 102,
   "id": "732900d1-7e38-4289-bb24-3b505b8c3380",
   "metadata": {},
   "outputs": [
    {
     "data": {
      "text/plain": [
       "['sales_model.joblib']"
      ]
     },
     "execution_count": 102,
     "metadata": {},
     "output_type": "execute_result"
    }
   ],
   "source": [
    "from joblib import dump\n",
    "\n",
    "# Save the trained model to a file\n",
    "dump(model, 'sales_model.joblib')"
   ]
  },
  {
   "cell_type": "markdown",
   "id": "2ee31cd9-a1ac-4009-94a0-93436a958bbb",
   "metadata": {},
   "source": [
    "**Load the Model and Predict**"
   ]
  },
  {
   "cell_type": "code",
   "execution_count": 103,
   "id": "ef013984-48cf-4c2b-8da3-c0a11a3f8f49",
   "metadata": {},
   "outputs": [
    {
     "data": {
      "text/plain": [
       "array([13970.25235278])"
      ]
     },
     "execution_count": 103,
     "metadata": {},
     "output_type": "execute_result"
    }
   ],
   "source": [
    "from joblib import load\n",
    "\n",
    "# Load the model from the file\n",
    "loaded_model = load('sales_model.joblib')\n",
    "\n",
    "# Use the loaded model to make a prediction\n",
    "loaded_model.predict(new_data)"
   ]
  },
  {
   "cell_type": "code",
   "execution_count": null,
   "id": "610111ae-d2b1-4b67-bdbd-39b8c91da37c",
   "metadata": {},
   "outputs": [],
   "source": []
  }
 ],
 "metadata": {
  "kernelspec": {
   "display_name": "Python 3 (ipykernel)",
   "language": "python",
   "name": "python3"
  },
  "language_info": {
   "codemirror_mode": {
    "name": "ipython",
    "version": 3
   },
   "file_extension": ".py",
   "mimetype": "text/x-python",
   "name": "python",
   "nbconvert_exporter": "python",
   "pygments_lexer": "ipython3",
   "version": "3.12.7"
  }
 },
 "nbformat": 4,
 "nbformat_minor": 5
}
